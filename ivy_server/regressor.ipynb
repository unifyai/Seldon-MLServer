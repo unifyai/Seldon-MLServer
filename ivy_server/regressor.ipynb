{
 "cells": [
  {
   "attachments": {},
   "cell_type": "markdown",
   "id": "d564a1bb",
   "metadata": {},
   "source": [
    "## Training"
   ]
  },
  {
   "cell_type": "code",
   "execution_count": 1,
   "id": "fa26c2a0",
   "metadata": {},
   "outputs": [
    {
     "name": "stdout",
     "output_type": "stream",
     "text": [
      "Epoch: 10 --- Loss: 1.43195\n",
      "Epoch: 20 --- Loss: 1.18419\n",
      "Epoch: 30 --- Loss: 1.19950\n",
      "Epoch: 40 --- Loss: 1.46237\n",
      "Epoch: 50 --- Loss: 1.41681\n",
      "Finished training!\n"
     ]
    }
   ],
   "source": [
    "TRAIN_MODEL = True\n",
    "if TRAIN_MODEL:\n",
    "    import ivy\n",
    "    import os\n",
    "\n",
    "    class Regressor(ivy.Module):\n",
    "        def __init__(self, input_dim, output_dim, is_training=True):\n",
    "            self.linear = ivy.Linear(input_dim, output_dim)\n",
    "            self.dropout = ivy.Dropout(0.5, training=is_training)\n",
    "            ivy.Module.__init__(self)\n",
    "\n",
    "        def _forward(self, x, ):\n",
    "            x = ivy.sigmoid(self.linear(x))\n",
    "            x = self.dropout(x)\n",
    "            return x\n",
    "\n",
    "    ivy.set_backend('torch')  # set backend to PyTorch\n",
    "\n",
    "    model = Regressor(input_dim=3, output_dim=1)\n",
    "    optimizer = ivy.Adam(1e-4)\n",
    "\n",
    "    # generate some random data\n",
    "    x = ivy.random.random_normal(shape=(100, 3))\n",
    "    y = ivy.random.random_normal(shape=(100, 1))\n",
    "\n",
    "    def loss_fn(pred, target):\n",
    "        return ivy.mean((pred - target)**2)\n",
    "\n",
    "    for epoch in range(50):\n",
    "        # forward pass\n",
    "        pred = model(x)\n",
    "\n",
    "        # compute loss and gradients\n",
    "        loss, grads = ivy.execute_with_gradients(lambda v: loss_fn(pred, y), model.v)\n",
    "\n",
    "        # update parameters\n",
    "        model.v = optimizer.step(model.v, grads)\n",
    "\n",
    "        # print current loss\n",
    "        if (epoch+1) % 10 == 0:\n",
    "            print(f'Epoch: {epoch + 1:2d} --- Loss: {ivy.to_numpy(loss).item():.5f}')\n",
    "            \n",
    "    print('Finished training!')\n",
    "    \n",
    "    model_dir = \"./artifacts\"\n",
    "    ivy_model = \"weights.pkl\"\n",
    "    model_file = os.path.join(model_dir, ivy_model)\n",
    "    \n",
    "    if not os.path.exists(model_dir): os.makedirs(model_dir)\n",
    "    model.v.cont_to_disk_as_pickled(model_file)"
   ]
  },
  {
   "cell_type": "code",
   "execution_count": 2,
   "id": "8fb65095",
   "metadata": {},
   "outputs": [
    {
     "name": "stdout",
     "output_type": "stream",
     "text": [
      "Writing artifacts/regressor.py\n"
     ]
    }
   ],
   "source": [
    "%%writefile artifacts/regressor.py\n",
    "import ivy\n",
    "\n",
    "class Regressor(ivy.Module):\n",
    "    def __init__(self, input_dim, output_dim, is_training=True):\n",
    "        self.linear = ivy.Linear(input_dim, output_dim)\n",
    "        self.dropout = ivy.Dropout(0.5, training=is_training)\n",
    "        ivy.Module.__init__(self)\n",
    "\n",
    "    def _forward(self, x, ):\n",
    "        x = ivy.sigmoid(self.linear(x))\n",
    "        x = self.dropout(x)\n",
    "        return x\n",
    "    \n",
    "input_dim = 3\n",
    "output_dim = 1\n",
    "backend = 'torch'"
   ]
  },
  {
   "attachments": {},
   "cell_type": "markdown",
   "id": "54c84642",
   "metadata": {},
   "source": [
    "# Start serving our model\n",
    "since this command will start the server and block the terminal, waiting for requests, this will need to be ran in the background on a separate terminal"
   ]
  },
  {
   "cell_type": "code",
   "execution_count": null,
   "id": "469bbfd8",
   "metadata": {},
   "outputs": [],
   "source": [
    "!mlserver start ."
   ]
  },
  {
   "attachments": {},
   "cell_type": "markdown",
   "id": "3aff1cd8",
   "metadata": {},
   "source": [
    "# Send test inference request"
   ]
  },
  {
   "cell_type": "code",
   "execution_count": 2,
   "id": "4c801c38",
   "metadata": {},
   "outputs": [
    {
     "data": {
      "text/plain": [
       "{'model_name': 'ivy-regressor',\n",
       " 'id': '954c6953-f6c9-46ea-a287-2792c9fba87d',\n",
       " 'parameters': {},\n",
       " 'outputs': [{'name': 'output-0',\n",
       "   'shape': [4, 1],\n",
       "   'datatype': 'FP32',\n",
       "   'parameters': {'content_type': 'np'},\n",
       "   'data': [0.3102598488330841,\n",
       "    0.7707526087760925,\n",
       "    0.986264169216156,\n",
       "    0.13599324226379395]}]}"
      ]
     },
     "execution_count": 2,
     "metadata": {},
     "output_type": "execute_result"
    }
   ],
   "source": [
    "import requests\n",
    "import numpy as np\n",
    "\n",
    "from mlserver.types import InferenceRequest\n",
    "from mlserver.codecs import NumpyCodec\n",
    "\n",
    "x_0 = np.random.randn(4,3).astype(np.float32)\n",
    "inference_request = InferenceRequest(\n",
    "    inputs=[\n",
    "        NumpyCodec.encode_input(name=\"X\", payload=x_0)\n",
    "    ]\n",
    ")\n",
    "\n",
    "endpoint = \"http://localhost:8080/v2/models/ivy-regressor/infer\"\n",
    "response = requests.post(endpoint, json=inference_request.dict())\n",
    "\n",
    "response.json()"
   ]
  },
  {
   "cell_type": "code",
   "execution_count": null,
   "id": "b0514b2b",
   "metadata": {},
   "outputs": [],
   "source": []
  }
 ],
 "metadata": {
  "kernelspec": {
   "display_name": "Python 3 (ipykernel)",
   "language": "python",
   "name": "python3"
  },
  "language_info": {
   "codemirror_mode": {
    "name": "ipython",
    "version": 3
   },
   "file_extension": ".py",
   "mimetype": "text/x-python",
   "name": "python",
   "nbconvert_exporter": "python",
   "pygments_lexer": "ipython3",
   "version": "3.10.11"
  }
 },
 "nbformat": 4,
 "nbformat_minor": 5
}
